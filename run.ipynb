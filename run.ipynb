{
 "cells": [
  {
   "cell_type": "markdown",
   "metadata": {},
   "source": [
    "# Run test"
   ]
  },
  {
   "cell_type": "code",
   "execution_count": 3,
   "metadata": {},
   "outputs": [],
   "source": [
    "import os\n",
    "import numpy as np\n",
    "\n",
    "# V values\n",
    "step = 1\n",
    "vs = np.arange(1, 5+step, step)\n",
    "vs = vs*1e7\n",
    "step = 1\n",
    "vs2 = np.arange(1, 8+step, step)\n",
    "vs2 = vs2*1e9\n",
    "step = 0.2\n",
    "vs3 = np.arange(9, 12+step, step)\n",
    "vs3 = vs3*1e9\n",
    "vv = np.concatenate((vs, vs2, vs3))\n",
    "vv = np.insert(vv, 0, 0)\n",
    "\n",
    "# Simulate\n",
    "num_sim = 1 # Number of simulations\n",
    "for n in range(1,num_sim+1):\n",
    "  for v in vv:\n",
    "    cmd =  f\"./ns3 run cttc-nr-traffic-3gpp-xr-qos-sched -- --appDuration=10000 --arUeNum=0 --vrUeNum=4 --cgUeNum=4 --enableOfdma=true --schedulerType=DPP --dppV={v} --rngRun={n} > /dev/null 2>&1\"\n",
    "    os.system(cmd)\n",
    "    cmd = f\"mv alpha.txt sim_alpha/alphaDPP_V{v:.2e}_n{n}.txt\"\n",
    "    os.system(cmd)\n",
    "    cmd = f\"mv res.txt sim_thput/resDPP_V{v:.2e}_n{n}.txt\"\n",
    "    os.system(cmd)"
   ]
  },
  {
   "cell_type": "markdown",
   "metadata": {},
   "source": [
    "# Write formatted data to csv"
   ]
  },
  {
   "cell_type": "code",
   "execution_count": 4,
   "metadata": {},
   "outputs": [],
   "source": [
    "import pandas as pd\n",
    "import os\n",
    "import numpy as np\n",
    "\n",
    "# Read data\n",
    "step = 1\n",
    "vs = np.arange(1, 5+step, step)\n",
    "vs = vs*1e7\n",
    "step = 1\n",
    "vs2 = np.arange(1, 8+step, step)\n",
    "vs2 = vs2*1e9\n",
    "step = 0.2\n",
    "vs3 = np.arange(9, 12+step, step)\n",
    "vs3 = vs3*1e9\n",
    "vv = np.concatenate((vs, vs2, vs3))\n",
    "vv = np.insert(vv, 0, 0)\n",
    "\n",
    "# Simulate\n",
    "num_sim = 1 # Number of simulations\n",
    "thPutRes = pd.DataFrame()\n",
    "for v in vv:\n",
    "  avgLow,avgHigh  = [],[]\n",
    "  for n in range(1,num_sim+1):\n",
    "    fn = f\"sim_thput/resDPP_V{v:.2e}_n{n}.txt\"\n",
    "    df = pd.read_csv(fn, delimiter= '\\t')\n",
    "    avgLow.append(df.head(4)['Thput'].mean())\n",
    "    avgHigh.append(df.tail(4)['Thput'].mean())\n",
    "    thPutRes[f'V{v:.2e}'] = [np.array(avgLow).mean(), np.array(avgHigh).mean()]\n",
    "# print(thPutRes)\n",
    "thPutRes.to_csv('fig2Aux.csv', sep='\\t')\n",
    "\n",
    "prbsRes = pd.DataFrame()\n",
    "for v in vv:\n",
    "  avgLow,avgHigh  = [],[]\n",
    "  for n in range(1,num_sim+1):\n",
    "    fn = f\"sim_alpha/alphaDPP_V{v:.2e}_n{n}.txt\"\n",
    "    df = pd.read_csv(fn, delimiter= '\\t')\n",
    "    avgLow.append(df[df['UE'] > 4]['resources'].mean())\n",
    "    avgHigh.append(df[df['UE'] <= 4]['resources'].mean())\n",
    "    prbsRes[f'V{v:.2e}'] = [np.array(avgLow).mean(), np.array(avgHigh).mean()]\n",
    "# print(prbsRes)\n",
    "prbsRes.to_csv('fig3Aux.csv', sep='\\t')"
   ]
  },
  {
   "cell_type": "markdown",
   "metadata": {},
   "source": [
    "# Create paper figures"
   ]
  },
  {
   "cell_type": "code",
   "execution_count": 6,
   "metadata": {},
   "outputs": [
    {
     "data": {
      "text/plain": [
       "<matplotlib.legend.Legend at 0x7f3051f23090>"
      ]
     },
     "execution_count": 6,
     "metadata": {},
     "output_type": "execute_result"
    },
    {
     "data": {
      "image/png": "[encoded data removed]",
      "text/plain": [
       "<Figure size 640x480 with 1 Axes>"
      ]
     },
     "metadata": {},
     "output_type": "display_data"
    }
   ],
   "source": [
    "import csv\n",
    "import numpy as np\n",
    "from matplotlib import pyplot as plt\n",
    "import os\n",
    "\n",
    "# Run schedulers\n",
    "num_sim = 1 # Number of simulations\n",
    "for n in range(1,num_sim+1):\n",
    "        if not os.path.isfile(\"sim_thput/resDPP_n{n}.txt\"):\n",
    "                cmd =  f\"./ns3 run cttc-nr-traffic-3gpp-xr-qos-sched -- --appDuration=10000 --arUeNum=0 --vrUeNum=4 --cgUeNum=4 --enableOfdma=true --schedulerType=DPP > /dev/null 2>&1\"\n",
    "                os.system(cmd)\n",
    "                cmd = f\"mv res.txt sim_thput/resDPP_V0.00e+00_n{n}.txt\"\n",
    "                os.system(cmd)\n",
    "\n",
    "for s in ['RR', 'MR', 'PF', 'Qos']:\n",
    "        for n in range(1,num_sim+1):\n",
    "                if not os.path.isfile(f\"sim_thput/res{s}_n{n}.txt\"):\n",
    "                        cmd =  f\"./ns3 run cttc-nr-traffic-3gpp-xr-qos-sched -- --appDuration=10000 --arUeNum=0 --vrUeNum=4 --cgUeNum=4 --enableOfdma=true --schedulerType={s} > /dev/null 2>&1\"\n",
    "                        os.system(cmd)\n",
    "                        cmd = f\"mv res.txt sim_thput/res{s}_n{n}.txt\"\n",
    "                        os.system(cmd)\n",
    "\n",
    "# Read data\n",
    "dpp = []\n",
    "for n in range(1,num_sim+1):\n",
    "        thput = []\n",
    "        with open(f'sim_thput/resDPP_V0.00e+00_n{n}.txt') as File:\n",
    "                reader = csv.reader(File, delimiter='\\t', quotechar=',',\n",
    "                                        quoting=csv.QUOTE_MINIMAL)\n",
    "                for row in reader:\n",
    "                        if row[0] != \"Thput\":\n",
    "                                thput.append(float(row[0]))\n",
    "        dpp.append(thput)\n",
    "dpp = np.array(dpp).mean(0)\n",
    "\n",
    "rr = []\n",
    "for n in range(1,num_sim+1):\n",
    "        thput = []\n",
    "        with open(f'sim_thput/resRR_n{n}.txt') as File:\n",
    "                reader = csv.reader(File, delimiter='\\t', quotechar=',',\n",
    "                                        quoting=csv.QUOTE_MINIMAL)\n",
    "                for row in reader:\n",
    "                        if row[0] != 'Thput':\n",
    "                                thput.append(float(row[0]))\n",
    "        rr.append(thput)\n",
    "rr = np.array(rr).mean(0)\n",
    "\n",
    "mr = []\n",
    "for n in range(1,num_sim+1):\n",
    "        thput = []\n",
    "        with open(f'sim_thput/resMR_n{n}.txt') as File:\n",
    "                reader = csv.reader(File, delimiter='\\t', quotechar=',',\n",
    "                                        quoting=csv.QUOTE_MINIMAL)\n",
    "                for row in reader:\n",
    "                        if row[0] != 'Thput':\n",
    "                                thput.append(float(row[0]))\n",
    "        mr.append(thput)\n",
    "mr = np.array(mr).mean(0)\n",
    "\n",
    "pf = []\n",
    "for n in range(1,num_sim+1):\n",
    "        thput = []\n",
    "        with open(f'sim_thput/resPF_n{n}.txt') as File:\n",
    "                reader = csv.reader(File, delimiter='\\t', quotechar=',',\n",
    "                                        quoting=csv.QUOTE_MINIMAL)\n",
    "                for row in reader:\n",
    "                        if row[0] != 'Thput':\n",
    "                                thput.append(float(row[0]))\n",
    "        pf.append(thput)\n",
    "pf = np.array(pf).mean(0)\n",
    "\n",
    "qos = []\n",
    "for n in range(1,num_sim+1):\n",
    "        thput = []\n",
    "        with open(f'sim_thput/resQos_n{n}.txt') as File:\n",
    "                reader = csv.reader(File, delimiter='\\t', quotechar=',',\n",
    "                                        quoting=csv.QUOTE_MINIMAL)\n",
    "                for row in reader:\n",
    "                        if row[0] != 'Thput':\n",
    "                                thput.append(float(row[0]))\n",
    "        qos.append(thput)\n",
    "qos = np.array(qos).mean(0)\n",
    "\n",
    "# Plot\n",
    "plt.figure()\n",
    "x = np.arange(len(thput))\n",
    "plt.bar(x-0.2, dpp, 0.1, label='DPP', color='#009688')\n",
    "plt.bar(x-0.1, rr, 0.1, label='RR', color='#f44336')\n",
    "plt.bar(x, mr, 0.1, label='MR', color='#ff9800')\n",
    "plt.bar(x+0.1, pf, 0.1, label='PF', color='#795548')\n",
    "plt.bar(x+0.2, qos, 0.1, label='QoS', color='#3f51b5')\n",
    "plt.ylabel(\"Av. throughput [Mbps]\")\n",
    "plt.xticks([])\n",
    "plt.legend(loc='lower left')"
   ]
  },
  {
   "cell_type": "code",
   "execution_count": 7,
   "metadata": {},
   "outputs": [
    {
     "data": {
      "text/plain": [
       "([], [])"
      ]
     },
     "execution_count": 7,
     "metadata": {},
     "output_type": "execute_result"
    },
    {
     "data": {
      "image/png": "[encoded data removed]",
      "text/plain": [
       "<Figure size 640x480 with 1 Axes>"
      ]
     },
     "metadata": {},
     "output_type": "display_data"
    }
   ],
   "source": [
    "import csv\n",
    "import numpy as np\n",
    "from matplotlib import pyplot as plt\n",
    "import os\n",
    "import pandas as pd\n",
    "\n",
    "# Read data\n",
    "step = 1\n",
    "vs = np.arange(1, 5+step, step)\n",
    "vs = vs*1e7\n",
    "step = 1\n",
    "vs2 = np.arange(1, 8+step, step)\n",
    "vs2 = vs2*1e9\n",
    "step = 0.2\n",
    "vs3 = np.arange(9, 12+step, step)\n",
    "vs3 = vs3*1e9\n",
    "vv = np.concatenate((vs, vs2, vs3))\n",
    "vv = np.insert(vv, 0, 0)\n",
    "\n",
    "num_sim = 1 # Number of simulations\n",
    "avgLow,avgHigh = [],[]\n",
    "for v in vv:\n",
    "        avgLow_aux,avgHigh_aux = [],[]\n",
    "        for n in range(1,num_sim+1):\n",
    "                fn = f\"sim_thput/resDPP_V{v:.2e}_n{n}.txt\"\n",
    "                df = pd.read_csv(fn, delimiter= '\\t')\n",
    "                avgLow_aux.append(df.head(4)['Thput'].mean())\n",
    "                avgHigh_aux.append(df.tail(4)['Thput'].mean())\n",
    "        avgLow.append(np.array(avgLow_aux).mean())\n",
    "        avgHigh.append(np.array(avgHigh_aux).mean())\n",
    "\n",
    "# Plot\n",
    "plt.figure()\n",
    "x = np.arange(len(avgLow))\n",
    "plt.bar(x,avgLow, color='#009688')\n",
    "plt.bar(x+2*len(avgLow),avgHigh, color='#009688')\n",
    "plt.ylabel(\"Av. throughput [Mbps]\")\n",
    "plt.xticks([])"
   ]
  },
  {
   "cell_type": "code",
   "execution_count": 8,
   "metadata": {},
   "outputs": [
    {
     "data": {
      "text/plain": [
       "([], [])"
      ]
     },
     "execution_count": 8,
     "metadata": {},
     "output_type": "execute_result"
    },
    {
     "data": {
      "image/png": "[encoded data removed]",
      "text/plain": [
       "<Figure size 640x480 with 1 Axes>"
      ]
     },
     "metadata": {},
     "output_type": "display_data"
    }
   ],
   "source": [
    "import csv\n",
    "import numpy as np\n",
    "from matplotlib import pyplot as plt\n",
    "import os\n",
    "import pandas as pd\n",
    "\n",
    "# Read data\n",
    "step = 1\n",
    "vs = np.arange(1, 5+step, step)\n",
    "vs = vs*1e7\n",
    "step = 1\n",
    "vs2 = np.arange(1, 8+step, step)\n",
    "vs2 = vs2*1e9\n",
    "step = 0.2\n",
    "vs3 = np.arange(9, 12+step, step)\n",
    "vs3 = vs3*1e9\n",
    "vv = np.concatenate((vs, vs2, vs3))\n",
    "vv = np.insert(vv, 0, 0)\n",
    "\n",
    "num_sim = 1 # Number of simulations\n",
    "avgLow,avgHigh = [],[]\n",
    "for v in vv:\n",
    "        avgLow_aux,avgHigh_aux = [],[]\n",
    "        for n in range(1,num_sim+1):\n",
    "                fn = f\"sim_alpha/alphaDPP_V{v:.2e}_n{n}.txt\"\n",
    "                df = pd.read_csv(fn, delimiter= '\\t')\n",
    "                avgLow_aux.append(df[df['UE'] > 4]['resources'].mean())\n",
    "                avgHigh_aux.append(df[df['UE'] <= 4]['resources'].mean())\n",
    "        avgLow.append(np.array(avgLow_aux).mean())\n",
    "        avgHigh.append(np.array(avgHigh_aux).mean())\n",
    "\n",
    "# Plot\n",
    "plt.figure()\n",
    "x = np.arange(len(avgLow))\n",
    "plt.bar(x,avgLow, color='#009688')\n",
    "plt.bar(x+2*len(avgLow),avgHigh, color='#009688')\n",
    "plt.ylabel(\"Av. #RBGs per UE\")\n",
    "plt.xticks([])"
   ]
  }
 ],
 "metadata": {
  "kernelspec": {
   "display_name": "Python 3",
   "language": "python",
   "name": "python3"
  },
  "language_info": {
   "codemirror_mode": {
    "name": "ipython",
    "version": 3
   },
   "file_extension": ".py",
   "mimetype": "text/x-python",
   "name": "python",
   "nbconvert_exporter": "python",
   "pygments_lexer": "ipython3",
   "version": "3.11.4"
  }
 },
 "nbformat": 4,
 "nbformat_minor": 2
}
