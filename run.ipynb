{
 "cells": [
  {
   "cell_type": "markdown",
   "metadata": {},
   "source": [
    "# Run test"
   ]
  },
  {
   "cell_type": "code",
   "execution_count": 77,
   "metadata": {},
   "outputs": [
    {
     "name": "stdout",
     "output_type": "stream",
     "text": [
      "[0.00e+00 1.00e+06 2.00e+06 3.00e+06 4.00e+06 5.00e+06 6.00e+06 7.00e+06\n",
      " 8.00e+06 9.00e+06 1.00e+07 6.00e+09 7.00e+09 8.00e+09 9.00e+09 9.50e+09\n",
      " 9.60e+09 9.70e+09 9.80e+09 9.90e+09 1.00e+10 1.01e+10 1.02e+10 1.03e+10\n",
      " 1.04e+10 1.05e+10 1.06e+10 1.07e+10 1.08e+10 1.09e+10 1.10e+10 1.11e+10\n",
      " 1.12e+10 1.13e+10 1.14e+10 1.15e+10 1.16e+10 1.17e+10 1.18e+10 1.19e+10\n",
      " 1.20e+10]\n",
      "0.0\n",
      "1000000.0\n",
      "2000000.0\n",
      "3000000.0\n",
      "4000000.0\n",
      "5000000.0\n",
      "6000000.0\n",
      "7000000.0\n",
      "8000000.0\n",
      "9000000.0\n",
      "10000000.0\n",
      "6000000000.0\n",
      "7000000000.0\n",
      "8000000000.0\n",
      "9000000000.0\n",
      "9500000000.0\n",
      "9600000000.0\n",
      "9700000000.0\n",
      "9799999999.999998\n",
      "9899999999.999998\n",
      "9999999999.999998\n",
      "10099999999.999998\n",
      "10199999999.999998\n",
      "10299999999.999998\n",
      "10399999999.999996\n",
      "10499999999.999996\n",
      "10599999999.999996\n",
      "10699999999.999996\n",
      "10799999999.999996\n",
      "10899999999.999994\n",
      "10999999999.999994\n",
      "11099999999.999994\n",
      "11199999999.999994\n",
      "11299999999.999994\n",
      "11399999999.999992\n",
      "11499999999.999992\n",
      "11599999999.999992\n",
      "11699999999.999992\n",
      "11799999999.999992\n",
      "11899999999.999992\n",
      "11999999999.99999\n"
     ]
    }
   ],
   "source": [
    "import os\n",
    "import numpy as np\n",
    "\n",
    "step = 1\n",
    "vs = np.arange(1, 7+step, step)\n",
    "vs = vs*1e6\n",
    "\n",
    "step = 1\n",
    "vs2 = np.arange(6, 9+step, step)\n",
    "vs2 = vs2*1e9\n",
    "\n",
    "step = 0.2\n",
    "vs3 = np.arange(9.5, 12, step)\n",
    "vs3 = vs3*1e9\n",
    "\n",
    "vv = np.concatenate((vs, vs2, vs3))\n",
    "vv = np.insert(vv, 0, 0)\n",
    "\n",
    "for v in vv:\n",
    "  print(v)\n",
    "  cmd =  f\"./ns3 run cttc-nr-traffic-3gpp-xr_neco -- --appDuration=10000 --arUeNum=0 --vrUeNum=4 --cgUeNum=4 --enableOfdma=true --schedulerType=DPP --dppV={v} > /dev/null 2>&1\"\n",
    "  os.system(cmd)\n",
    "  cmd = f\"mv alpha.txt alphaDPP_V{v:.2e}.txt\"\n",
    "  os.system(cmd)\n",
    "  cmd = f\"mv res.txt resDPP_V{v:.2e}.txt\"\n",
    "  os.system(cmd)"
   ]
  },
  {
   "cell_type": "markdown",
   "metadata": {},
   "source": [
    "# Print formatted data"
   ]
  },
  {
   "cell_type": "code",
   "execution_count": 113,
   "metadata": {},
   "outputs": [
    {
     "name": "stdout",
     "output_type": "stream",
     "text": [
      "[0.00e+00 1.00e+06 2.00e+06 3.00e+06 4.00e+06 5.00e+06 6.00e+06 7.00e+06\n",
      " 6.00e+09 7.00e+09 8.00e+09 9.00e+09 9.50e+09 9.70e+09 9.90e+09 1.01e+10\n",
      " 1.03e+10 1.05e+10 1.07e+10 1.09e+10 1.11e+10 1.13e+10 1.15e+10 1.17e+10\n",
      " 1.19e+10]\n",
      "   V0.00e+00  V1.00e+06  V2.00e+06  V3.00e+06  V4.00e+06  V5.00e+06  \\\n",
      "0   3.715767   4.206310   4.488120   3.950395   3.859610   3.746395   \n",
      "1   5.016698   5.016698   5.016698   5.016698   5.016698   5.016698   \n",
      "\n",
      "   V6.00e+06  V7.00e+06  V6.00e+09  V7.00e+09  ...  V1.01e+10  V1.03e+10  \\\n",
      "0   3.659538   3.604987   0.000000   0.000000  ...     0.0000   0.000000   \n",
      "1   5.016698   5.016698   5.011935   5.011812  ...     4.4945   4.483218   \n",
      "\n",
      "   V1.05e+10  V1.07e+10  V1.09e+10  V1.11e+10  V1.13e+10  V1.15e+10  \\\n",
      "0    0.00000   0.000000   0.000000   0.000000   0.000000   0.000000   \n",
      "1    4.47974   4.476522   4.473718   4.444107   4.415647   4.220268   \n",
      "\n",
      "   V1.17e+10  V1.19e+10  \n",
      "0   0.000000   0.000000  \n",
      "1   4.024237   4.000325  \n",
      "\n",
      "[2 rows x 25 columns]\n",
      "   V0.00e+00  V1.00e+06  V2.00e+06  V3.00e+06  V4.00e+06  V5.00e+06  \\\n",
      "0   5.296025   5.105395   5.036537   4.978086   4.922634   4.859019   \n",
      "1  21.136678  18.919740  19.020289  19.950170  20.009070  19.786374   \n",
      "\n",
      "   V6.00e+06  V7.00e+06  V6.00e+09  V7.00e+09  ...  V1.01e+10  V1.03e+10  \\\n",
      "0   4.797619   4.743119   0.000000   0.000000  ...   0.000000   0.000000   \n",
      "1  19.800052  19.787400   9.534243   8.116505  ...   6.222288   6.220961   \n",
      "\n",
      "   V1.05e+10  V1.07e+10  V1.09e+10  V1.11e+10  V1.13e+10  V1.15e+10  \\\n",
      "0   0.000000   0.000000   0.000000   0.000000   0.000000   0.000000   \n",
      "1   6.214454   6.209586   6.205806   6.204917   6.163214   5.870625   \n",
      "\n",
      "   V1.17e+10  V1.19e+10  \n",
      "0   0.000000   0.000000  \n",
      "1   5.606309   5.575313  \n",
      "\n",
      "[2 rows x 25 columns]\n"
     ]
    }
   ],
   "source": [
    "import pandas as pd\n",
    "import os\n",
    "import numpy as np\n",
    "\n",
    "# Read data\n",
    "step = 1\n",
    "vs = np.arange(1, 7+step, step)\n",
    "vs = vs*1e6\n",
    "\n",
    "step = 1\n",
    "vs2 = np.arange(6, 9+step, step)\n",
    "vs2 = vs2*1e9\n",
    "\n",
    "step = 0.2\n",
    "vs3 = np.arange(9.5, 12, step)\n",
    "vs3 = vs3*1e9\n",
    "\n",
    "vv = np.concatenate((vs, vs2, vs3))\n",
    "vv = np.insert(vv, 0, 0)\n",
    "\n",
    "thPutRes = pd.DataFrame()\n",
    "for v in vv:\n",
    "  fn = f\"resDPP_V{v:.2e}.txt\"\n",
    "  df = pd.read_csv(fn, delimiter= '\\t')\n",
    "  avgLow = df.head(4)['Thput'].mean()\n",
    "  avgHigh = df.tail(4)['Thput'].mean()\n",
    "  thPutRes[f'V{v:.2e}'] = [avgLow, avgHigh]\n",
    "print(thPutRes)\n",
    "thPutRes.to_csv('fig2Aux.csv', sep='\\t')\n",
    "\n",
    "prbsRes = pd.DataFrame()\n",
    "for v in vv:\n",
    "  fn = f\"alphaDPP_V{v:.2e}.txt\"\n",
    "  df = pd.read_csv(fn, delimiter= '\\t')\n",
    "  avgLow = df[df['UE'] <= 4]['resources'].mean()\n",
    "  avgHigh = df[df['UE'] > 4]['resources'].mean()\n",
    "  prbsRes[f'V{v:.2e}'] = [avgHigh, avgLow]\n",
    "print(prbsRes)\n",
    "prbsRes.to_csv('fig3Aux.csv', sep='\\t')"
   ]
  },
  {
   "cell_type": "markdown",
   "metadata": {},
   "source": [
    "# Create paper figures"
   ]
  },
  {
   "cell_type": "code",
   "execution_count": 49,
   "metadata": {},
   "outputs": [
    {
     "name": "stdout",
     "output_type": "stream",
     "text": [
      "RR\n",
      "MR\n",
      "PF\n",
      "Qos\n"
     ]
    },
    {
     "data": {
      "text/plain": [
       "<matplotlib.legend.Legend at 0x7f20b3f57cd0>"
      ]
     },
     "execution_count": 49,
     "metadata": {},
     "output_type": "execute_result"
    },
    {
     "data": {
      "image/png": "[encoded data removed]",
      "text/plain": [
       "<Figure size 640x480 with 1 Axes>"
      ]
     },
     "metadata": {},
     "output_type": "display_data"
    }
   ],
   "source": [
    "import csv\n",
    "import numpy as np\n",
    "from matplotlib import pyplot as plt\n",
    "import os\n",
    "\n",
    "# Run other schedulers\n",
    "for s in ['RR', 'MR', 'PF', 'Qos']:\n",
    "        print(s)\n",
    "        if not os.path.isfile(f\"res{s}.txt\"):\n",
    "                cmd =  f\"./ns3 run cttc-nr-traffic-3gpp-xr_neco -- --appDuration=10000 --arUeNum=0 --vrUeNum=4 --cgUeNum=4 --enableOfdma=true --schedulerType={s} > /dev/null 2>&1\"\n",
    "                os.system(cmd)\n",
    "                cmd = f\"mv res.txt res{s}.txt\"\n",
    "                os.system(cmd)\n",
    "\n",
    "# Read data\n",
    "dpp = []\n",
    "with open('resDPP_V0.00e+00.txt') as File:\n",
    "        reader = csv.reader(File, delimiter='\\t', quotechar=',',\n",
    "                                quoting=csv.QUOTE_MINIMAL)\n",
    "        for row in reader:\n",
    "                if row[0] != \"Thput\":\n",
    "                        dpp.append(float(row[0]))\n",
    "rr = []\n",
    "with open('resRR.txt') as File:\n",
    "        reader = csv.reader(File, delimiter='\\t', quotechar=',',\n",
    "                                quoting=csv.QUOTE_MINIMAL)\n",
    "        for row in reader:\n",
    "                if row[0] != 'Thput':\n",
    "                        rr.append(float(row[0]))\n",
    "mr = []\n",
    "with open('resMR.txt') as File:\n",
    "        reader = csv.reader(File, delimiter='\\t', quotechar=',',\n",
    "                                quoting=csv.QUOTE_MINIMAL)\n",
    "        for row in reader:\n",
    "                if row[0] != 'Thput':\n",
    "                        mr.append(float(row[0]))\n",
    "pf = []\n",
    "with open('resPF.txt') as File:\n",
    "        reader = csv.reader(File, delimiter='\\t', quotechar=',',\n",
    "                                quoting=csv.QUOTE_MINIMAL)\n",
    "        for row in reader:\n",
    "                if row[0] != 'Thput':\n",
    "                        pf.append(float(row[0]))\n",
    "qos = []\n",
    "with open('resQos.txt') as File:\n",
    "        reader = csv.reader(File, delimiter='\\t', quotechar=',',\n",
    "                                quoting=csv.QUOTE_MINIMAL)\n",
    "        for row in reader:\n",
    "                if row[0] != 'Thput':\n",
    "                        qos.append(float(row[0]))\n",
    "\n",
    "# Plot\n",
    "plt.figure()\n",
    "x = np.arange(len(dpp))\n",
    "plt.bar(x-0.2, dpp, 0.1, label='DPP', color='#009688')\n",
    "plt.bar(x-0.1, rr, 0.1, label='RR', color='#f44336')\n",
    "plt.bar(x, mr, 0.1, label='MR', color='#ff9800')\n",
    "plt.bar(x+0.1, pf, 0.1, label='PF', color='#795548')\n",
    "plt.bar(x+0.2, qos, 0.1, label='QoS', color='#3f51b5')\n",
    "plt.ylabel(\"Av. throughput [Mbps]\")\n",
    "plt.xticks([])\n",
    "plt.legend(loc='lower left')"
   ]
  },
  {
   "cell_type": "code",
   "execution_count": 110,
   "metadata": {},
   "outputs": [
    {
     "name": "stdout",
     "output_type": "stream",
     "text": [
      "[0.00e+00 1.00e+06 2.00e+06 3.00e+06 4.00e+06 5.00e+06 6.00e+06 7.00e+06\n",
      " 6.00e+09 7.00e+09 8.00e+09 9.00e+09 9.50e+09 9.70e+09 9.90e+09 1.01e+10\n",
      " 1.03e+10 1.05e+10 1.07e+10 1.09e+10 1.11e+10 1.13e+10 1.15e+10 1.17e+10\n",
      " 1.19e+10]\n"
     ]
    },
    {
     "data": {
      "text/plain": [
       "([], [])"
      ]
     },
     "execution_count": 110,
     "metadata": {},
     "output_type": "execute_result"
    },
    {
     "data": {
      "image/png": "[encoded data removed]",
      "text/plain": [
       "<Figure size 640x480 with 1 Axes>"
      ]
     },
     "metadata": {},
     "output_type": "display_data"
    }
   ],
   "source": [
    "import csv\n",
    "import numpy as np\n",
    "from matplotlib import pyplot as plt\n",
    "import os\n",
    "import pandas as pd\n",
    "\n",
    "# Read data\n",
    "step = 1\n",
    "vs = np.arange(1, 7+step, step)\n",
    "vs = vs*1e6\n",
    "\n",
    "step = 1\n",
    "vs2 = np.arange(6, 9+step, step)\n",
    "vs2 = vs2*1e9\n",
    "\n",
    "step = 0.2\n",
    "vs3 = np.arange(9.5, 12, step)\n",
    "vs3 = vs3*1e9\n",
    "\n",
    "vv = np.concatenate((vs, vs2, vs3))\n",
    "vv = np.insert(vv, 0, 0)\n",
    "\n",
    "avgLow,avgHigh = [],[]\n",
    "for v in vv:\n",
    "        fn = f\"resDPP_V{v:.2e}.txt\"\n",
    "        df = pd.read_csv(fn, delimiter= '\\t')\n",
    "        avgLow.append(df.head(4)['Thput'].mean())\n",
    "        avgHigh.append(df.tail(4)['Thput'].mean())\n",
    "\n",
    "# Plot\n",
    "plt.figure()\n",
    "x = np.arange(len(avgLow))\n",
    "plt.bar(x,avgLow, color='#009688')\n",
    "plt.bar(x+2*len(avgLow),avgHigh, color='#009688')\n",
    "plt.ylabel(\"Av. throughput [Mbps]\")\n",
    "plt.xticks([])"
   ]
  },
  {
   "cell_type": "code",
   "execution_count": 107,
   "metadata": {},
   "outputs": [
    {
     "name": "stdout",
     "output_type": "stream",
     "text": [
      "25\n"
     ]
    },
    {
     "data": {
      "text/plain": [
       "([], [])"
      ]
     },
     "execution_count": 107,
     "metadata": {},
     "output_type": "execute_result"
    },
    {
     "data": {
      "image/png": "[encoded data removed]",
      "text/plain": [
       "<Figure size 640x480 with 1 Axes>"
      ]
     },
     "metadata": {},
     "output_type": "display_data"
    }
   ],
   "source": [
    "import csv\n",
    "import numpy as np\n",
    "from matplotlib import pyplot as plt\n",
    "import os\n",
    "import pandas as pd\n",
    "\n",
    "# Read data\n",
    "step = 1\n",
    "vs = np.arange(1, 7+step, step)\n",
    "vs = vs*1e6\n",
    "\n",
    "step = 1\n",
    "vs2 = np.arange(6, 9+step, step)\n",
    "vs2 = vs2*1e9\n",
    "\n",
    "step = 0.2\n",
    "vs3 = np.arange(9.5, 12, step)\n",
    "vs3 = vs3*1e9\n",
    "\n",
    "vv = np.concatenate((vs, vs2, vs3))\n",
    "vv = np.insert(vv, 0, 0)\n",
    "\n",
    "avgLow,avgHigh = [],[]\n",
    "prbsRes = pd.DataFrame()\n",
    "for v in vv:\n",
    "    fn = f\"alphaDPP_V{v:.2e}.txt\"\n",
    "    df = pd.read_csv(fn, delimiter= '\\t')\n",
    "    avgLow.append(df[df['UE'] > 4]['resources'].mean())\n",
    "    avgHigh.append(df[df['UE'] <= 4]['resources'].mean())\n",
    "\n",
    "# Plot\n",
    "plt.figure()\n",
    "x = np.arange(len(avgLow))\n",
    "plt.bar(x,avgLow, color='#009688')\n",
    "plt.bar(x+2*len(avgLow),avgHigh, color='#009688')\n",
    "plt.ylabel(\"Av. #RBGs per UE\")\n",
    "plt.xticks([])"
   ]
  }
 ],
 "metadata": {
  "kernelspec": {
   "display_name": "Python 3",
   "language": "python",
   "name": "python3"
  },
  "language_info": {
   "codemirror_mode": {
    "name": "ipython",
    "version": 3
   },
   "file_extension": ".py",
   "mimetype": "text/x-python",
   "name": "python",
   "nbconvert_exporter": "python",
   "pygments_lexer": "ipython3",
   "version": "3.10.12"
  }
 },
 "nbformat": 4,
 "nbformat_minor": 2
}
